{
 "cells": [
  {
   "cell_type": "code",
   "execution_count": 1,
   "id": "e83cd060",
   "metadata": {},
   "outputs": [],
   "source": [
    "import numpy as np\n",
    "from matplotlib import pylab as plt\n",
    "from matplotlib.pyplot import cm"
   ]
  },
  {
   "cell_type": "code",
   "execution_count": null,
   "id": "a6a900f8",
   "metadata": {},
   "outputs": [],
   "source": []
  },
  {
   "cell_type": "code",
   "execution_count": 2,
   "id": "26bd7859",
   "metadata": {},
   "outputs": [],
   "source": [
    "timing_fxa_reeds_prod = 32 * 5 / 1000 #us\n",
    "timing_fxa_reeds_prep = (16 + (21 * 0.2) + 17 + (7 * 32 * 0.5) )/ 1000 #us"
   ]
  },
  {
   "cell_type": "code",
   "execution_count": 3,
   "id": "a3def075",
   "metadata": {},
   "outputs": [],
   "source": [
    "timing_gsk_reeds_prod = 32 * 10 / 1000 #us\n",
    "timing_gsk_reeds_prep = (16 + (21 * 0.2) + 17 + (8 * 32 * 1))/ 1000 #us"
   ]
  },
  {
   "cell_type": "code",
   "execution_count": 4,
   "id": "d8c21056",
   "metadata": {},
   "outputs": [],
   "source": [
    "# From Greg Ross paper:\n",
    "# 24 lambdas for a charge change\n",
    "# 12 lambdas for a basic calc\n",
    "# lambdas all sampled for 20ns (here we can put same value as what I used)"
   ]
  },
  {
   "cell_type": "code",
   "execution_count": 5,
   "id": "e7907c32",
   "metadata": {},
   "outputs": [],
   "source": [
    "# From JCTC paper:\n",
    "# 24 lambdas for a charge change\n",
    "# 12 lambdas for a basic calc\n",
    "# 5 ns of sampling per lambda"
   ]
  },
  {
   "cell_type": "code",
   "execution_count": 6,
   "id": "a335391a",
   "metadata": {},
   "outputs": [],
   "source": [
    "# Assuming star shapped perturbation map + additional perturbation of charge towards uncharged for al 8\n",
    "timing_fxa_jctc2019 = ((7 * 12 * 5) + (8 * 24 * 5)) / 1000"
   ]
  },
  {
   "cell_type": "code",
   "execution_count": 7,
   "id": "4c76c394",
   "metadata": {},
   "outputs": [],
   "source": [
    "# Assuming star shapped perturbation map + additional perturbation of charge towards uncharged for al 8\n",
    "timing_gsk_estimated = ((7 * 12 * 5) + (8 * 12 * 5)) / 1000"
   ]
  },
  {
   "cell_type": "code",
   "execution_count": 8,
   "id": "a1b2e030",
   "metadata": {},
   "outputs": [
    {
     "data": {
      "text/plain": [
       "4.46313065976714"
      ]
     },
     "execution_count": 8,
     "metadata": {},
     "output_type": "execute_result"
    }
   ],
   "source": [
    "timing_fxa_jctc2019 / (timing_fxa_reeds_prod+timing_fxa_reeds_prep)"
   ]
  },
  {
   "cell_type": "markdown",
   "id": "b3ef7894",
   "metadata": {},
   "source": [
    "# Make the plot"
   ]
  },
  {
   "cell_type": "code",
   "execution_count": 25,
   "id": "c38d7d10",
   "metadata": {},
   "outputs": [
    {
     "data": {
      "image/png": "[encoded data removed]",
      "text/plain": [
       "<Figure size 576x432 with 2 Axes>"
      ]
     },
     "metadata": {
      "needs_background": "light"
     },
     "output_type": "display_data"
    }
   ],
   "source": [
    "mosaic = \"\"\"\n",
    "    AB\n",
    "    \"\"\"\n",
    "\n",
    "c_reeds = '#637E63'#'#576F1F' # '#6D4022' # test: #576F1F\n",
    "c_reeds_prop =  '#CAD5CA' #'#BCD979' #'#D8A47F' # test: #BCD979\n",
    "\n",
    "c_ti = '#CAD5CA' # '#7D6D61\n",
    "c_ti = '#3C3C3C'\n",
    "\n",
    "\n",
    "edgecolor = 'black'\n",
    "linewidth = 2\n",
    "\n",
    "width = 0.8\n",
    "\n",
    "fig = plt.figure(figsize = [8, 6],)\n",
    "ax_dict = fig.subplot_mosaic(mosaic)\n",
    "\n",
    "fontsize = 16\n",
    "\n",
    "ax= ax_dict['A']\n",
    "\n",
    "ax.bar(0, timing_fxa_jctc2019, color = c_ti, label = 'TI JCTC 2019', width = width, edgecolor=edgecolor, linewidth=linewidth)\n",
    "\n",
    "ax.bar(1, timing_fxa_reeds_prep + timing_fxa_reeds_prod, color = c_reeds, label = 'RE-EDS prod.', width = width, edgecolor=edgecolor, linewidth=linewidth)\n",
    "ax.bar(1, timing_fxa_reeds_prep, color = c_reeds_prop, label = 'RE-EDS prep.', width = width, edgecolor=edgecolor, linewidth=linewidth)\n",
    "\n",
    "ax.set_title('FXa', fontsize=fontsize)\n",
    "\n",
    "ax.set_ylabel(r'Cumulative sampling time [$\\mu$s]', fontsize=fontsize+2)\n",
    "\n",
    "#\n",
    "#\n",
    "#\n",
    "\n",
    "ax= ax_dict['B']\n",
    "ax.bar(0, timing_gsk_estimated, color = c_ti, label = 'TI estimate', width = width, edgecolor=edgecolor, linewidth=linewidth )\n",
    "ax.bar(1, timing_gsk_reeds_prep + timing_gsk_reeds_prod, color = c_reeds, label = 'RE-EDS prod.', width = width, edgecolor=edgecolor, linewidth=linewidth)\n",
    "ax.bar(1, timing_gsk_reeds_prep, color = c_reeds_prop, label = 'RE-EDS prep.', width = width, edgecolor=edgecolor, linewidth=linewidth)\n",
    "\n",
    "ax.set_title(r'GSK3$\\beta$', fontsize=fontsize)\n",
    "\n",
    "ax.get_yaxis().set_visible(False)\n",
    "\n",
    "\n",
    "# Make some style changes:\n",
    "\n",
    "for key in ['A', 'B']: \n",
    "    ax = ax_dict[key]\n",
    "    \n",
    "    leg = ax.legend(fontsize=fontsize, fancybox=True, edgecolor='black', loc = 'upper center')\n",
    "    \n",
    "    ax.set_xlim([-1, 2])\n",
    "    \n",
    "    ax.set_ylim([0, 2])\n",
    "    ax.tick_params(axis=\"y\",direction=\"in\", length = 6, width = 1.5, labelsize=fontsize)\n",
    "    ax.tick_params(axis=\"x\",direction=\"in\", length = 0, width = 1.5, labelsize=fontsize)\n",
    "    \n",
    "    ax.get_xaxis().set_visible(False)\n",
    "    \n",
    "    for axis in ['top','bottom','left','right']:\n",
    "        ax.spines[axis].set_linewidth(2.0)"
   ]
  },
  {
   "cell_type": "code",
   "execution_count": 26,
   "id": "b89ddeb9",
   "metadata": {},
   "outputs": [],
   "source": [
    "fig.savefig('/home/cchampion/Desktop/REEDS_protonation_sampling.png', dpi=150)"
   ]
  }
 ],
 "metadata": {
  "kernelspec": {
   "display_name": "Python 3",
   "language": "python",
   "name": "python3"
  },
  "language_info": {
   "codemirror_mode": {
    "name": "ipython",
    "version": 3
   },
   "file_extension": ".py",
   "mimetype": "text/x-python",
   "name": "python",
   "nbconvert_exporter": "python",
   "pygments_lexer": "ipython3",
   "version": "3.6.15"
  }
 },
 "nbformat": 4,
 "nbformat_minor": 5
}
