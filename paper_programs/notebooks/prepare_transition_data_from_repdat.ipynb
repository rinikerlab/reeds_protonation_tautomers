{
 "cells": [
  {
   "cell_type": "code",
   "execution_count": 1,
   "id": "22862604",
   "metadata": {},
   "outputs": [],
   "source": [
    "import pandas as pd\n",
    "import numpy as np"
   ]
  },
  {
   "cell_type": "code",
   "execution_count": 2,
   "id": "a97029c7",
   "metadata": {},
   "outputs": [],
   "source": [
    "import pickle\n",
    "\n",
    "def save_pickle(out_path, data):\n",
    "    with open(out_path, 'wb') as handle:\n",
    "        pickle.dump(data, handle, protocol=pickle.HIGHEST_PROTOCOL)\n",
    "\n",
    "def load_pickle(pickle_path):\n",
    "    with open(pickle_path, 'rb') as handle:\n",
    "        return pickle.load(handle)"
   ]
  },
  {
   "cell_type": "code",
   "execution_count": 3,
   "id": "73db5911",
   "metadata": {},
   "outputs": [],
   "source": [
    "import reeds\n",
    "from pygromos.files.repdat import Repdat, ExpandedRepdat\n",
    "\n",
    "from reeds.function_libs.analysis.sampling import analyse_state_transitions\n",
    "\n",
    "from typing import List\n",
    "import matplotlib.pyplot as plt"
   ]
  },
  {
   "cell_type": "markdown",
   "id": "05e0f211",
   "metadata": {},
   "source": [
    "### Loading the data from the GROMOS repdat format into a python object is very inefficient (few minutes) so it is convenient to save them temporarily as a pickle to reload them faster\n",
    "\n",
    "Note: repdat files are too large to be hosted on GitHub, therefore, we only provide the final output of the calculation, which can be used in the associated notebook. To reproduce the full data, please contact the corresponding author of the publication (sriniker@ethz.ch) to have access to those files.\n",
    "\n"
   ]
  },
  {
   "cell_type": "markdown",
   "id": "d538cc14",
   "metadata": {},
   "source": [
    "### Do the calculation for FXa in complex"
   ]
  },
  {
   "cell_type": "code",
   "execution_count": 7,
   "id": "a177ae04",
   "metadata": {},
   "outputs": [
    {
     "name": "stdout",
     "output_type": "stream",
     "text": [
      "working on 1\n",
      "working on 2\n",
      "working on 3\n",
      "working on 4\n",
      "working on 5\n"
     ]
    }
   ],
   "source": [
    "root_dir = '/fileserver/pine/pine2/cchampion/REEDS/2_protonation/data_too_big_for_github/repdats'\n",
    "\n",
    "repdats2 = []\n",
    "\n",
    "for i in range(1, 6):\n",
    "    print (f'working on {i}')\n",
    "    #x = Repdat(f'{root_dir}/GSK3b_complex_sharedR_production_seed{i}_run_repdat.dat')\n",
    "    #repdats2.append(x)\n",
    "    #save_pickle(f'/{root_dir}/pickled/GSK3b_complex_5ns_seed{i+1}_repdat.pkl', r)\n",
    "    \n",
    "# if the data was already saved into a pickle file, it can be extracted again by uncommenting line below.\n",
    "repdats = [load_pickle(f'{root_dir}/pickled/FXa_complex_seed{i}_repdat.pkl') for i in range(1, 6)]\n"
   ]
  },
  {
   "cell_type": "code",
   "execution_count": 10,
   "id": "315433e9",
   "metadata": {},
   "outputs": [],
   "source": [
    "exp_repdats = [ExpandedRepdat(r) for r in repdats]\n",
    "tr_matrices2 = [analyse_state_transitions(er, normalize= False, bidirectional =False, min_s=2) for er in exp_repdats]"
   ]
  },
  {
   "cell_type": "code",
   "execution_count": 12,
   "id": "94c723c9",
   "metadata": {},
   "outputs": [],
   "source": [
    "# NOTE: The transitions could be monitored for more replicas by changing the min_s parameter"
   ]
  },
  {
   "cell_type": "code",
   "execution_count": 17,
   "id": "56411482",
   "metadata": {},
   "outputs": [],
   "source": [
    "np.save('../data/FXA/state_transitions_complex.npy', tr_matrices2)"
   ]
  },
  {
   "cell_type": "markdown",
   "id": "606bf665",
   "metadata": {},
   "source": [
    "### Do the calculation for GSK3b in complex"
   ]
  },
  {
   "cell_type": "code",
   "execution_count": 4,
   "id": "f687eab2",
   "metadata": {},
   "outputs": [
    {
     "name": "stdout",
     "output_type": "stream",
     "text": [
      "working on 1\n",
      "working on 2\n",
      "working on 3\n",
      "working on 4\n",
      "working on 5\n"
     ]
    }
   ],
   "source": [
    "root_dir = '/fileserver/pine/pine2/cchampion/REEDS/2_protonation/data_too_big_for_github/repdats'\n",
    "\n",
    "repdats2 = []\n",
    "\n",
    "for i in range(1, 6):\n",
    "    print (f'working on {i}')\n",
    "    #x = Repdat(f'{root_dir}/GSK3b_complex_sharedR_production_seed{i}_run_repdat.dat')\n",
    "    #save_pickle(f'/{root_dir}/pickled/GSK3b_complex_10ns_seed{i}_repdat.pkl', x)\n",
    "    #repdats2.append(x)\n",
    "    \n",
    "# if the data was already saved into a pickle file, it can be extracted again by uncommenting line below.\n",
    "repdats = [load_pickle(f'{root_dir}/pickled/GSK3b_complex_10ns_seed{i}_repdat.pkl') for i in range(1, 6)]"
   ]
  },
  {
   "cell_type": "code",
   "execution_count": 5,
   "id": "14c933b4",
   "metadata": {},
   "outputs": [],
   "source": [
    "exp_repdats = [ExpandedRepdat(r) for r in repdats]"
   ]
  },
  {
   "cell_type": "code",
   "execution_count": 6,
   "id": "779fbbda",
   "metadata": {},
   "outputs": [],
   "source": [
    "tr_matrices_mins = [analyse_state_transitions(er, normalize=False, bidirectional =False, min_s = 2) for er in exp_repdats]"
   ]
  },
  {
   "cell_type": "code",
   "execution_count": 7,
   "id": "7fb9e84f",
   "metadata": {},
   "outputs": [],
   "source": [
    "np.save('../data/GSK3b/state_transitions_complex_s2.npy', tr_matrices_mins)"
   ]
  },
  {
   "cell_type": "code",
   "execution_count": 8,
   "id": "1b6fb849",
   "metadata": {},
   "outputs": [],
   "source": [
    "tr_matrices = [analyse_state_transitions(er, normalize= False, bidirectional =False) for er in exp_repdats]"
   ]
  },
  {
   "cell_type": "code",
   "execution_count": 9,
   "id": "a5171daf",
   "metadata": {},
   "outputs": [],
   "source": [
    "np.save('../data/GSK3b/state_transitions_complex_all_s.npy', tr_matrices)"
   ]
  },
  {
   "cell_type": "code",
   "execution_count": null,
   "id": "f691136c",
   "metadata": {},
   "outputs": [],
   "source": []
  }
 ],
 "metadata": {
  "kernelspec": {
   "display_name": "Python [conda env:.conda-re-eds]",
   "language": "python",
   "name": "conda-env-.conda-re-eds-py"
  },
  "language_info": {
   "codemirror_mode": {
    "name": "ipython",
    "version": 3
   },
   "file_extension": ".py",
   "mimetype": "text/x-python",
   "name": "python",
   "nbconvert_exporter": "python",
   "pygments_lexer": "ipython3",
   "version": "3.9.15"
  }
 },
 "nbformat": 4,
 "nbformat_minor": 5
}
