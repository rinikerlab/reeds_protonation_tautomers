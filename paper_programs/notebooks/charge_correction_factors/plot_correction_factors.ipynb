{
 "cells": [
  {
   "cell_type": "code",
   "execution_count": 1,
   "id": "159611b6",
   "metadata": {},
   "outputs": [],
   "source": [
    "import numpy as np\n",
    "import os\n",
    "import matplotlib.pyplot as plt\n",
    "from scipy import special"
   ]
  },
  {
   "cell_type": "code",
   "execution_count": 2,
   "id": "05abaafc",
   "metadata": {},
   "outputs": [],
   "source": [
    "def dG(lambdas, charges, v):\n",
    "    \"\"\"\n",
    "    Numerical integration based on Maria Reif 2014(?) article, eq. 12\n",
    "    where v is written phi in the article\n",
    "    \"\"\"\n",
    "    dG = 0\n",
    "    for i in range(1,len(lambdas)):       \n",
    "        delta_lambda = lambdas[i] - lambdas[i-1]\n",
    "        delta_q = charges[len(lambdas)-1] - charges[0]         \n",
    "        for atom in range(0, len(delta_q)):\n",
    "            dG += delta_q[atom] * delta_lambda * (v[i][atom] + v[i-1][atom])/2 \n",
    "    return dG\n",
    "\n",
    "def parse_charges(path_dgslv_pbsolv):\n",
    "    \"\"\"\n",
    "    extract data from the output of gromos++ dGslv_pbsolv calculations\n",
    "    \"\"\"\n",
    "    data = np.loadtxt(path_dgslv_pbsolv, skiprows=1, dtype=str)\n",
    "    return np.array(data.T[3], dtype=float)\n",
    "\n",
    "def parse_potentials(path_dgslv_pbsolv):\n",
    "    \"\"\"\n",
    "    extract data from the output of gromos++ dGslv_pbsolv calculations\n",
    "    \"\"\"\n",
    "    \n",
    "    data = np.loadtxt(path_dgslv_pbsolv, skiprows=1, dtype=str)\n",
    "    return np.array(data.T[4:], dtype=float)\n",
    "\n",
    "\n",
    "def find_missing_indices(basedir):\n",
    "    \"\"\"\n",
    "    Checks the data in dG_pol to see if any is missing.\n",
    "    Returns list of indices for which full data is available.\n",
    "    \"\"\"\n",
    "    n_snapshots = 50\n",
    "    lambda_idx = np.arange(1, 12, 1)\n",
    "    indices_full =[]\n",
    "    for k in range(n_snapshots):\n",
    "        incomplete_data = np.any([os.path.getsize(f'{basedir}/dg_pol/dgsolv_lam_{lam}_{k+1}.out') == 0 for lam in lambda_idx])\n",
    "\n",
    "        if incomplete_data:\n",
    "            continue\n",
    "\n",
    "        indices_full.append(k)\n",
    "    \n",
    "    return indices_full\n",
    "\n",
    "\n",
    "def calc_partial_dg_pol(basedir, indices_full):\n",
    "    \"\"\"\n",
    "    Calculate dG_pol for the data which is complete\n",
    "    \"\"\"\n",
    "    n_snapshots = 50\n",
    "    lambdas = np.arange(0, 1.001, 0.1)\n",
    "    lambda_idx = np.arange(1, 12, 1)\n",
    "    n_pots = 6\n",
    "    \n",
    "    all_data = np.zeros([len(indices_full), n_pots+1])\n",
    "\n",
    "    for k_prime, k in enumerate(indices_full):\n",
    "        charges = np.array([parse_charges(f'{basedir}/dg_pol/dgsolv_lam_{lam}_{k+1}.out') for lam in lambda_idx])\n",
    "        pot_energies = np.array([parse_potentials(f'{basedir}/dg_pol/dgsolv_lam_{lam}_{k+1}.out') for lam in lambda_idx])\n",
    "\n",
    "        pot_labels = ['DG_POL', 'NPBC_SLV', 'NPBC_VAC','PBC_SLV', 'PBC_VAC', 'FFT_LS_PBC', 'FFT_RF_PBC']\n",
    "\n",
    "        for i in range(n_pots):\n",
    "            all_data[k_prime][i+1] = dG(lambdas, charges, pot_energies[:,i,:])\n",
    "        all_data[k_prime][0] = (all_data[k_prime][1] - all_data[k_prime][2]) - (all_data[k_prime][3] - all_data[k_prime][4]) + (all_data[k_prime][5] - all_data[k_prime][6])\n",
    "    \n",
    "    \n",
    "    return np.round(np.average(all_data.T[0]),2), all_data"
   ]
  },
  {
   "cell_type": "markdown",
   "id": "d3250b38",
   "metadata": {},
   "source": [
    "# Functions doing the calculation for dG_dir"
   ]
  },
  {
   "cell_type": "code",
   "execution_count": 3,
   "id": "82429b59",
   "metadata": {},
   "outputs": [],
   "source": [
    "def parse_file(path_dgdir):\n",
    "    \"\"\"\n",
    "    extract data from the output of gromos++ dGslv_pbsolv calculations\n",
    "    \"\"\"\n",
    "    return np.loadtxt(path_dgdir, skiprows=1, dtype=float).T[1]\n",
    "\n",
    "def calc_dgdir_partial(basedir, indices_full):\n",
    "    \n",
    "    traj_indices = np.arange(1, 12, 1)\n",
    "    lambdas = np.arange(0, 1.001, 0.1)\n",
    "    \n",
    "    v_npbc = np.array([ parse_file(f'{basedir}/dg_dir/dgdir_lam_{i}.txt') for i in traj_indices])\n",
    "    v_pbc = np.array([ parse_file(f'{basedir}/dg_dir/dgdir_lam_{i}_withPBC.txt') for i in traj_indices])\n",
    "\n",
    "    dg_dir = np.trapz(v_npbc.T, x = lambdas) - np.trapz(v_pbc.T, x = lambdas)\n",
    "    # np.save('deltaG_dir.npy', dg_dir, )\n",
    "    avg = np.round(np.average(dg_dir), 2)\n",
    "    std = np.round(np.std(dg_dir), 2)\n",
    "    \n",
    "    return dg_dir, dg_dir[indices_full]"
   ]
  },
  {
   "cell_type": "markdown",
   "id": "cda580f0",
   "metadata": {},
   "source": [
    "# Do the calculation for a system of interest\n",
    "\n",
    "### Note: This data is not made available on GitHub as some files are too large, if you would like to have access to the raw data, please contact the corresponding author (sriniker@ethz.ch)"
   ]
  },
  {
   "cell_type": "code",
   "execution_count": 182,
   "id": "3b11feef",
   "metadata": {},
   "outputs": [],
   "source": [
    "ligand_id = 1"
   ]
  },
  {
   "cell_type": "code",
   "execution_count": 183,
   "id": "391578a3",
   "metadata": {},
   "outputs": [],
   "source": [
    "basedir = f'/fileserver/pine/pine2/cchampion/REEDS/2_protonation/FXA_charging_deltaGs/ligand{ligand_id}/complex/corr_factors'"
   ]
  },
  {
   "cell_type": "code",
   "execution_count": 184,
   "id": "503dbbbb",
   "metadata": {},
   "outputs": [],
   "source": [
    "indices_full = find_missing_indices(basedir)"
   ]
  },
  {
   "cell_type": "code",
   "execution_count": 185,
   "id": "fa69a52a",
   "metadata": {},
   "outputs": [],
   "source": [
    "avg, dg_pol = calc_partial_dg_pol(basedir, indices_full)"
   ]
  },
  {
   "cell_type": "code",
   "execution_count": 186,
   "id": "314ceebe",
   "metadata": {},
   "outputs": [],
   "source": [
    "dg_dir, dg_dir_part = calc_dgdir_partial(basedir, indices_full)"
   ]
  },
  {
   "cell_type": "code",
   "execution_count": 187,
   "id": "bf997d71",
   "metadata": {},
   "outputs": [
    {
     "data": {
      "image/png": "[encoded data removed]",
      "text/plain": [
       "<Figure size 900x600 with 1 Axes>"
      ]
     },
     "metadata": {},
     "output_type": "display_data"
    }
   ],
   "source": [
    "fontsize = 18\n",
    "\n",
    "fig, ax = plt.subplots(1, 1, figsize = [9, 6])\n",
    "\n",
    "ax.scatter(indices_full, dg_dir_part, label = r'$\\Delta{G_{dir}}$')\n",
    "ax.scatter(indices_full, dg_pol.T[0], label = r'$\\Delta{G_{pol}}$')\n",
    "\n",
    "ax.scatter(indices_full, dg_dir_part + dg_pol.T[0], label = 'sum', color = 'black')\n",
    "\n",
    "ax.set_ylim([-150, 150])\n",
    "\n",
    "ax.legend(loc='lower left', fontsize = fontsize, ncols=3)\n",
    "    \n",
    "ax.set_ylabel(r'$\\Delta{G}$ [kJ/mol]', fontsize = fontsize)\n",
    "ax.set_xlabel(r'conformer id', fontsize = fontsize)\n",
    "ax.set_title(f'Calculation in complex, ligand {ligand_id}', fontsize = 22)\n",
    "\n",
    "ax.tick_params(axis='both', labelsize=fontsize)\n",
    "\n"
   ]
  },
  {
   "cell_type": "code",
   "execution_count": 188,
   "id": "306b356a",
   "metadata": {},
   "outputs": [],
   "source": [
    "fig.savefig(f'/home/cchampion/Desktop/charge_corr_ligand_{ligand_id}.pdf', dpi=100)"
   ]
  },
  {
   "cell_type": "markdown",
   "id": "dec2805c",
   "metadata": {},
   "source": [
    "# Calculate basic average"
   ]
  },
  {
   "cell_type": "code",
   "execution_count": 16,
   "id": "f1317344",
   "metadata": {},
   "outputs": [],
   "source": [
    "def print_all_data(indices_full, dg_pol, dg_dir_part):\n",
    "    \n",
    "    dg_pol_avg = np.round(np.average(dg_pol.T[0]), 2)\n",
    "    dg_dir_avg = np.round(np.average(dg_dir_part), 2)\n",
    "    \n",
    "    dg_comb = dg_pol_avg + dg_dir_avg\n",
    "    \n",
    "    print (f'n = {len(indices_full)}')\n",
    "    print (f'dg_pol = {dg_pol_avg}')\n",
    "    print (f'dg_dir = {dg_dir_avg}')\n",
    "    print (f'{dg_comb=}')\n",
    "    \n",
    "    # Get an ensemble average:\n",
    "    \n",
    "    RT = 2.479\n",
    "    exp_term  = - (dg_dir_part + dg_pol.T[0]) / RT\n",
    "\n",
    "    ensemble_avged = -(RT) * (special.logsumexp(exp_term) - np.log(len(exp_term)))\n",
    "    print (f'{ensemble_avged=:.2f}')"
   ]
  },
  {
   "cell_type": "code",
   "execution_count": 17,
   "id": "68a79280",
   "metadata": {},
   "outputs": [
    {
     "name": "stdout",
     "output_type": "stream",
     "text": [
      "n = 50\n",
      "dg_pol = -47.09\n",
      "dg_dir = -10.89\n",
      "dg_comb=-57.980000000000004\n",
      "ensemble_avged=-76.88\n"
     ]
    }
   ],
   "source": [
    "print_all_data(indices_full, dg_pol, dg_dir_part)"
   ]
  },
  {
   "cell_type": "markdown",
   "id": "1cd47008",
   "metadata": {},
   "source": [
    "# Print the data (csv) to latex table"
   ]
  },
  {
   "cell_type": "code",
   "execution_count": 18,
   "id": "d29600e4",
   "metadata": {},
   "outputs": [],
   "source": [
    "import pandas as pd\n",
    "\n",
    "path_dat = '/fileserver/pine/pine2/cchampion/REEDS/2_protonation/paper_programs/data/FXA/charge_correction'\n",
    "\n",
    "corr_sol = pd.read_csv(f'{path_dat}/correction_factors_solution.csv')\n",
    "corr_com = pd.read_csv(f'{path_dat}/correction_factors_complex.csv')"
   ]
  },
  {
   "cell_type": "code",
   "execution_count": 19,
   "id": "0d73c799",
   "metadata": {},
   "outputs": [],
   "source": [
    "def print_to_table(corr_data):\n",
    "    \n",
    "    str_table = '\\\\begin{tabular}{ | c | c | c | c | c |}\\n'\n",
    "    str_table += '\\hline\\n'\n",
    "    str_table += 'Ligand ID & $\\Delta{G_{dsm}}$ [kJ/mol] &  $\\Delta{G_{pol}}$ [kJ/mol] & $\\Delta{G_{dir}}$ [kJ/mol] & $\\Delta{G_{cor}}$ [kJ/mol] \\\\\\\\ \\n'\n",
    "    str_table += '\\hline\\n'\n",
    "    \n",
    "    for i, row in corr_data.iterrows():\n",
    "        str_table += f'{int(row[0])} & {row[1]} &  {row[2]} &  {row[3]} &  {row[4]} \\\\\\\\ \\n'\n",
    "            \n",
    "    str_table += '\\hline\\n'\n",
    "    str_table += '\\end{tabular}\\n'\n",
    "    print (str_table)"
   ]
  },
  {
   "cell_type": "code",
   "execution_count": 20,
   "id": "c7aeb120",
   "metadata": {},
   "outputs": [
    {
     "name": "stdout",
     "output_type": "stream",
     "text": [
      "\\begin{tabular}{ | c | c | c | c | c |}\n",
      "\\hline\n",
      "Ligand ID & $\\Delta{G_{dsm}}$ [kJ/mol] &  $\\Delta{G_{pol}}$ [kJ/mol] & $\\Delta{G_{dir}}$ [kJ/mol] & $\\Delta{G_{cor}}$ [kJ/mol] \\\\ \n",
      "\\hline\n",
      "1 & -29.48 &  -40.04 &  -10.68 &  -80.2 \\\\ \n",
      "2 & -27.12 &  -52.32 &  -4.96 &  -84.4 \\\\ \n",
      "3 & -28.35 &  -47.23 &  -4.5 &  -80.08 \\\\ \n",
      "4 & -27.89 &  -51.13 &  3.21 &  -75.81 \\\\ \n",
      "5 & -29.23 &  -54.54 &  -1.1 &  -84.87 \\\\ \n",
      "6 & -28.78 &  -54.43 &  -5.51 &  -88.72 \\\\ \n",
      "7 & -29.57 &  -48.41 &  -18.93 &  -96.91 \\\\ \n",
      "8 & -29.64 &  -47.09 &  -10.89 &  -87.62 \\\\ \n",
      "\\hline\n",
      "\\end{tabular}\n",
      "\n"
     ]
    }
   ],
   "source": [
    "print_to_table(corr_com)"
   ]
  },
  {
   "cell_type": "markdown",
   "id": "a6d00c10",
   "metadata": {},
   "source": [
    "# save the overall correction factor for each ligand"
   ]
  },
  {
   "cell_type": "code",
   "execution_count": 25,
   "id": "91511038",
   "metadata": {},
   "outputs": [],
   "source": [
    "np.save(f'{path_dat}/overall_correction.npy', corr_com['sum'] - corr_sol['sum'])"
   ]
  },
  {
   "cell_type": "code",
   "execution_count": 26,
   "id": "79db2898",
   "metadata": {},
   "outputs": [
    {
     "data": {
      "text/plain": [
       "array([-12.91, -17.27, -13.26,  -7.06, -17.75, -21.55, -30.37, -19.81])"
      ]
     },
     "execution_count": 26,
     "metadata": {},
     "output_type": "execute_result"
    }
   ],
   "source": [
    "np.load(f'{path_dat}/overall_correction.npy')"
   ]
  }
 ],
 "metadata": {
  "kernelspec": {
   "display_name": "Python 3 (ipykernel)",
   "language": "python",
   "name": "python3"
  },
  "language_info": {
   "codemirror_mode": {
    "name": "ipython",
    "version": 3
   },
   "file_extension": ".py",
   "mimetype": "text/x-python",
   "name": "python",
   "nbconvert_exporter": "python",
   "pygments_lexer": "ipython3",
   "version": "3.12.2"
  }
 },
 "nbformat": 4,
 "nbformat_minor": 5
}
