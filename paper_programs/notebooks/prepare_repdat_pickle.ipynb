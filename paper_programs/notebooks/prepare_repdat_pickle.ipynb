{
 "cells": [
  {
   "cell_type": "code",
   "execution_count": 1,
   "id": "22862604",
   "metadata": {},
   "outputs": [],
   "source": [
    "from d3blocks import D3Blocks\n",
    "import pandas as pd\n",
    "import numpy as np"
   ]
  },
  {
   "cell_type": "code",
   "execution_count": 2,
   "id": "36d42183",
   "metadata": {},
   "outputs": [
    {
     "data": {
      "text/plain": [
       "'1.4.6'"
      ]
     },
     "execution_count": 2,
     "metadata": {},
     "output_type": "execute_result"
    }
   ],
   "source": [
    "import d3blocks\n",
    "d3blocks.__version__"
   ]
  },
  {
   "cell_type": "code",
   "execution_count": 3,
   "id": "a97029c7",
   "metadata": {},
   "outputs": [],
   "source": [
    "import pickle\n",
    "\n",
    "def save_pickle(out_path, data):\n",
    "    with open(out_path, 'wb') as handle:\n",
    "        pickle.dump(data, handle, protocol=pickle.HIGHEST_PROTOCOL)\n",
    "\n",
    "def load_pickle(pickle_path):\n",
    "    with open(pickle_path, 'rb') as handle:\n",
    "        return pickle.load(handle)"
   ]
  },
  {
   "cell_type": "code",
   "execution_count": 4,
   "id": "73db5911",
   "metadata": {},
   "outputs": [],
   "source": [
    "import reeds\n",
    "from pygromos.files.repdat import Repdat, ExpandedRepdat\n",
    "\n",
    "from reeds.function_libs.analysis.sampling import analyse_state_transitions\n",
    "\n",
    "from typing import List\n",
    "import matplotlib.pyplot as plt"
   ]
  },
  {
   "cell_type": "code",
   "execution_count": 6,
   "id": "163c454a",
   "metadata": {},
   "outputs": [
    {
     "name": "stdout",
     "output_type": "stream",
     "text": [
      "working on {i}\n",
      "working on {i}\n",
      "working on {i}\n",
      "working on {i}\n",
      "working on {i}\n"
     ]
    }
   ],
   "source": [
    "root_dir = '//fileserver/pine/pine2/cchampion/REEDS/2_protonation/paper_programs/notebooks/repdats'\n",
    "\n",
    "repdats = []\n",
    "\n",
    "for i in range(1, 6):\n",
    "    print ('working on {i}')\n",
    "    #x = Repdat(f'{root_dir}/GSK3b_sharedR_prod_seed{i}_run_repdat.dat')\n",
    "    #repdats.append(x)\n",
    "    #save_pickle(f'/{root_dir}/pickled/GSK3b_ligands_seed{i+1}_repdat.pkl', r)"
   ]
  },
  {
   "cell_type": "code",
   "execution_count": 2,
   "id": "a177ae04",
   "metadata": {},
   "outputs": [
    {
     "name": "stdout",
     "output_type": "stream",
     "text": [
      "working on {i}\n",
      "working on {i}\n",
      "working on {i}\n",
      "working on {i}\n",
      "working on {i}\n"
     ]
    }
   ],
   "source": [
    "root_dir = '//fileserver/pine/pine2/cchampion/REEDS/2_protonation/paper_programs/notebooks/repdats'\n",
    "\n",
    "repdats2 = []\n",
    "\n",
    "for i in range(1, 6):\n",
    "    print ('working on {i}')\n",
    "    #x = Repdat(f'{root_dir}/GSK3b_complex_sharedR_production_seed{i}_run_repdat.dat')\n",
    "    #repdats2.append(x)\n",
    "    #save_pickle(f'/{root_dir}/pickled/GSK3b_complex_5ns_seed{i+1}_repdat.pkl', r)"
   ]
  },
  {
   "cell_type": "code",
   "execution_count": 3,
   "id": "f687eab2",
   "metadata": {},
   "outputs": [
    {
     "name": "stdout",
     "output_type": "stream",
     "text": [
      "working on {i}\n",
      "working on {i}\n",
      "working on {i}\n",
      "working on {i}\n",
      "working on {i}\n"
     ]
    }
   ],
   "source": [
    "root_dir = '//home/cchampion/work/REEDS/misc/repdats/gsk3b_longer/'\n",
    "\n",
    "repdats2 = []\n",
    "\n",
    "for i in range(1, 6):\n",
    "    print ('working on {i}')\n",
    "    #x = Repdat(f'{root_dir}/GSK3b_complex_sharedR_production_seed{i}_run_repdat.dat')\n",
    "    #save_pickle(f'/{root_dir}/pickled/GSK3b_complex_10ns_seed{i}_repdat.pkl', x)\n",
    "    #repdats2.append(x)"
   ]
  },
  {
   "cell_type": "code",
   "execution_count": null,
   "id": "b60bf6eb",
   "metadata": {},
   "outputs": [],
   "source": []
  },
  {
   "cell_type": "code",
   "execution_count": null,
   "id": "995f8639",
   "metadata": {},
   "outputs": [],
   "source": []
  }
 ],
 "metadata": {
  "kernelspec": {
   "display_name": "Python [conda env:.conda-re-eds]",
   "language": "python",
   "name": "conda-env-.conda-re-eds-py"
  },
  "language_info": {
   "codemirror_mode": {
    "name": "ipython",
    "version": 3
   },
   "file_extension": ".py",
   "mimetype": "text/x-python",
   "name": "python",
   "nbconvert_exporter": "python",
   "pygments_lexer": "ipython3",
   "version": "3.9.15"
  }
 },
 "nbformat": 4,
 "nbformat_minor": 5
}
