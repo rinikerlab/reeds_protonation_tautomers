{
 "cells": [
  {
   "cell_type": "code",
   "execution_count": 31,
   "id": "8d36b3ed",
   "metadata": {},
   "outputs": [],
   "source": [
    "import reeds\n",
    "import pygromos\n",
    "\n",
    "import numpy as np\n",
    "import os\n",
    "\n",
    "from reeds.function_libs.analysis.free_energy import calc_free_energies_with_mbar\n",
    "from reeds.function_libs.file_management.file_management import parse_csv_energy_trajectory\n",
    "\n",
    "from pygromos.files.imd import Imd"
   ]
  },
  {
   "cell_type": "markdown",
   "id": "e69679b3",
   "metadata": {},
   "source": [
    "# 1: Load the data at s=1 (trim first 10%)"
   ]
  },
  {
   "cell_type": "code",
   "execution_count": 42,
   "id": "cab292bc",
   "metadata": {},
   "outputs": [],
   "source": [
    "basedir = '/fileserver/pine/pine2/cchampion/REEDS/2_protonation/FXA_scaled_bonded'"
   ]
  },
  {
   "cell_type": "code",
   "execution_count": 38,
   "id": "8cfbc08d",
   "metadata": {},
   "outputs": [],
   "source": [
    "trajs = []\n",
    "for i in range(1, 6):\n",
    "    trajs.append(parse_csv_energy_trajectory(f'{basedir}/all_complex_specific1_x16/g_prod_seed{i}/analysis/data/FXA_complex_scaled_production_seed{i}_energies_s1.dat', trim_equil=0.1))"
   ]
  },
  {
   "cell_type": "code",
   "execution_count": 51,
   "id": "d0e60373",
   "metadata": {},
   "outputs": [],
   "source": [
    "trajs = []\n",
    "for i in range(1, 6):\n",
    "    trajs.append(parse_csv_energy_trajectory(f'{basedir}/all_ligands_specific1_x16/g_prod_seed{i}/analysis/data/FXA_ligands_scaledSpec1_production_seed{i}_energies_s1.dat', trim_equil=0.1))"
   ]
  },
  {
   "cell_type": "code",
   "execution_count": 52,
   "id": "2d5c7283",
   "metadata": {},
   "outputs": [],
   "source": [
    "eoffs = np.zeros(16) # can just assume they are 0 for zwanzig"
   ]
  },
  {
   "cell_type": "code",
   "execution_count": 53,
   "id": "bf0b71f9",
   "metadata": {},
   "outputs": [],
   "source": [
    "out_dir = '/fileserver/pine/pine2/cchampion/REEDS/2_protonation/TMP'"
   ]
  },
  {
   "cell_type": "code",
   "execution_count": 54,
   "id": "bc56205e",
   "metadata": {},
   "outputs": [
    {
     "name": "stdout",
     "output_type": "stream",
     "text": [
      "0\n",
      "1\n",
      "2\n",
      "3\n",
      "4\n"
     ]
    }
   ],
   "source": [
    "for i, traj in enumerate(trajs):\n",
    "    print (i)\n",
    "    calc_free_energies_with_mbar([traj], s_values = [1], eoffs=[eoffs], out_dir=out_dir, temp=298, num_replicas=1, ) \n",
    "    os.chdir(out_dir)\n",
    "    os.system(f'mv deltaGs_mbar.npy deltaGs_seed{int(i+1)}.npy')\n",
    "    os.system(f'mv deltaGs_mbar_convergence.npy deltaGs_convergence_seed{int(i+1)}.npy')\n",
    "    os.system(f'mv mbar_convergence.png deltaGs_convergence_seed{int(i+1)}.png')"
   ]
  }
 ],
 "metadata": {
  "kernelspec": {
   "display_name": "Python [conda env:.conda-re-eds]",
   "language": "python",
   "name": "conda-env-.conda-re-eds-py"
  },
  "language_info": {
   "codemirror_mode": {
    "name": "ipython",
    "version": 3
   },
   "file_extension": ".py",
   "mimetype": "text/x-python",
   "name": "python",
   "nbconvert_exporter": "python",
   "pygments_lexer": "ipython3",
   "version": "3.9.15"
  }
 },
 "nbformat": 4,
 "nbformat_minor": 5
}
