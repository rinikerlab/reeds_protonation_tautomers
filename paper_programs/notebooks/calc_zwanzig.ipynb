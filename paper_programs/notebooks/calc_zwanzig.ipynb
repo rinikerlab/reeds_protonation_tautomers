{
 "cells": [
  {
   "cell_type": "code",
   "execution_count": 1,
   "id": "34b564f2",
   "metadata": {},
   "outputs": [
    {
     "name": "stderr",
     "output_type": "stream",
     "text": [
      "/home/cchampion/programs/reeds/reeds/submodules/pygromos/pygromos/files/topology/top.py:20: UserWarning: Module topo-files is under Development and not entirely implemented!\n",
      "  warnings.warn(\"Module topo-files is under Development and not entirely implemented!\")\n"
     ]
    }
   ],
   "source": [
    "import reeds\n",
    "import pygromos\n",
    "\n",
    "import numpy as np\n",
    "import os\n",
    "\n",
    "from reeds.function_libs.analysis.free_energy import calc_free_energies_with_mbar\n",
    "from reeds.function_libs.file_management.file_management import parse_csv_energy_trajectory\n",
    "\n",
    "from pygromos.files.imd import Imd"
   ]
  },
  {
   "cell_type": "markdown",
   "id": "7f264b31",
   "metadata": {},
   "source": [
    "# 1: Load the data at s=1 (trim first 10%)\n",
    "### load one of the four following cells "
   ]
  },
  {
   "cell_type": "code",
   "execution_count": 2,
   "id": "65681be4",
   "metadata": {},
   "outputs": [],
   "source": [
    "# FXA complex \n",
    "basedir = '../data/FXA/complex/ene_s1/'\n",
    "trajs = []\n",
    "for i in range(1, 6):\n",
    "    trajs.append(parse_csv_energy_trajectory(f'{basedir}/FXA_complex_production_energies_s{i}.dat', trim_equil=0.1))"
   ]
  },
  {
   "cell_type": "code",
   "execution_count": 3,
   "id": "87ae6f7c",
   "metadata": {},
   "outputs": [],
   "source": [
    "# FXA solution \n",
    "basedir = '../data/FXA/ligands/ene_s1/'\n",
    "trajs = []\n",
    "for i in range(1, 6):\n",
    "    trajs.append(parse_csv_energy_trajectory(f'{basedir}/FXA_ligands_production_energies_s{i}.dat', trim_equil=0.1))"
   ]
  },
  {
   "cell_type": "code",
   "execution_count": null,
   "id": "adea3dfe",
   "metadata": {},
   "outputs": [],
   "source": []
  },
  {
   "cell_type": "code",
   "execution_count": 4,
   "id": "360cba6d",
   "metadata": {},
   "outputs": [],
   "source": [
    "# GSK3b complex \n",
    "basedir = '../data/GSK3b/complex/ene_s1/'\n",
    "trajs = []\n",
    "for i in range(1, 6):\n",
    "    trajs.append(parse_csv_energy_trajectory(f'{basedir}/GSK3b_complex_sharedR_production_energies_{i}.dat', trim_equil=0.1))"
   ]
  },
  {
   "cell_type": "code",
   "execution_count": 5,
   "id": "62ad433e",
   "metadata": {},
   "outputs": [],
   "source": [
    "# GSK3b solution \n",
    "basedir = '../data/GSK3b/ligands/ene_s1'\n",
    "trajs = []\n",
    "for i in range(1, 6):\n",
    "    trajs.append(parse_csv_energy_trajectory(f'{basedir}/GSK3b_sharedR_prod_{i}.dat', trim_equil=0.1))"
   ]
  },
  {
   "cell_type": "markdown",
   "id": "7c1d295f",
   "metadata": {},
   "source": [
    "# 2: Do the calculation\n",
    "\n",
    "### Note: Here we are using the pymbar module, but because num_replicas=1 this is equivalent to doing the calculation with the Zwanzig eqn."
   ]
  },
  {
   "cell_type": "code",
   "execution_count": 6,
   "id": "98e7d63e",
   "metadata": {},
   "outputs": [],
   "source": [
    "out_dir = f'{os.getcwd()}/tmp_results/'\n",
    "os.makedirs(out_dir, exist_ok=True)\n",
    "\n",
    "eoffs = np.zeros(16) # can just assume they are 0 for zwanzig"
   ]
  },
  {
   "cell_type": "code",
   "execution_count": 7,
   "id": "bb819b40",
   "metadata": {},
   "outputs": [
    {
     "name": "stderr",
     "output_type": "stream",
     "text": [
      "Warning on use of the timeseries module: If the inherent timescales of the system are long compared to those being analyzed, this statistical inefficiency may be an underestimate.  The estimate presumes the use of many statistically independent samples.  Tests should be performed to assess whether this condition is satisfied.   Be cautious in the interpretation of the data.\n"
     ]
    },
    {
     "name": "stdout",
     "output_type": "stream",
     "text": [
      "0\n"
     ]
    },
    {
     "name": "stderr",
     "output_type": "stream",
     "text": [
      "WARNING:jax._src.lib.xla_bridge:No GPU/TPU found, falling back to CPU. (Set TF_CPP_MIN_LOG_LEVEL=0 and rerun for more info.)\n"
     ]
    },
    {
     "name": "stdout",
     "output_type": "stream",
     "text": [
      "1\n",
      "2\n",
      "3\n",
      "4\n"
     ]
    }
   ],
   "source": [
    "for i, traj in enumerate(trajs):\n",
    "    print (i)\n",
    "    calc_free_energies_with_mbar([traj], s_values = [1], eoffs=[eoffs], out_dir=out_dir, temp=298, num_replicas=1, ) \n",
    "    \n",
    "    os.system(f'mv {out_dir}/deltaGs_mbar.npy {out_dir}/deltaGs_seed{int(i+1)}.npy')\n",
    "    os.system(f'mv {out_dir}/deltaGs_mbar_convergence.npy {out_dir}/deltaGs_convergence_seed{int(i+1)}.npy')\n",
    "    os.system(f'mv {out_dir}/mbar_convergence.png {out_dir}/deltaGs_convergence_seed{int(i+1)}.png')"
   ]
  }
 ],
 "metadata": {
  "kernelspec": {
   "display_name": "Python [conda env:.conda-re-eds]",
   "language": "python",
   "name": "conda-env-.conda-re-eds-py"
  },
  "language_info": {
   "codemirror_mode": {
    "name": "ipython",
    "version": 3
   },
   "file_extension": ".py",
   "mimetype": "text/x-python",
   "name": "python",
   "nbconvert_exporter": "python",
   "pygments_lexer": "ipython3",
   "version": "3.9.15"
  }
 },
 "nbformat": 4,
 "nbformat_minor": 5
}
